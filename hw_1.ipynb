{
 "cells": [
  {
   "cell_type": "code",
   "execution_count": 3,
   "metadata": {},
   "outputs": [],
   "source": [
    "import urllib.request\n",
    "import jieba\n",
    "import jieba.analyse"
   ]
  },
  {
   "cell_type": "code",
   "execution_count": 4,
   "metadata": {},
   "outputs": [],
   "source": [
    "url = 'https://raw.githubusercontent.com/cjwu/cjwu.github.io/master/courses/nlp/hw1-dataset.txt'\n",
    "response = urllib.request.urlopen(url)\n",
    "data = response.read()      # a `bytes` object\n",
    "text = data.decode('utf-8') # a `str`; this step can't be used if data is binary"
   ]
  },
  {
   "cell_type": "code",
   "execution_count": 5,
   "metadata": {
    "scrolled": true
   },
   "outputs": [
    {
     "name": "stderr",
     "output_type": "stream",
     "text": [
      "Building prefix dict from the default dictionary ...\n",
      "Loading model from cache C:\\Users\\M\\AppData\\Local\\Temp\\jieba.cache\n",
      "Loading model cost 0.635 seconds.\n",
      "Prefix dict has been built successfully.\n"
     ]
    },
    {
     "name": "stdout",
     "output_type": "stream",
     "text": [
      "1 : 什麼 TF-IDF: 0.19464509600157406\n",
      "2 : 八卦 TF-IDF: 0.19420501140555646\n",
      "3 : 台灣 TF-IDF: 0.12081408131496592\n",
      "4 : 怎麼 TF-IDF: 0.11186701189176337\n",
      "5 : 肥宅 TF-IDF: 0.07336596927026089\n",
      "6 : 現在 TF-IDF: 0.03800903805058438\n",
      "7 : 不會 TF-IDF: 0.036229733848907944\n",
      "8 : 還是 TF-IDF: 0.03568381096884812\n",
      "9 : 是不是 TF-IDF: 0.0355764318510935\n",
      "10 : 一個 TF-IDF: 0.03550183667549485\n",
      "11 : 中國 TF-IDF: 0.034474018907481\n",
      "12 : 這樣 TF-IDF: 0.0325902479818425\n",
      "13 : 怎樣 TF-IDF: 0.029860633581543415\n",
      "14 : 時候 TF-IDF: 0.02967528939386879\n",
      "15 : 一樣 TF-IDF: 0.028691280252032575\n",
      "16 : 真的 TF-IDF: 0.026822655692091746\n",
      "17 : 沒有 TF-IDF: 0.026099831518909124\n",
      "18 : ... TF-IDF: 0.02543259244328046\n",
      "19 : 應該 TF-IDF: 0.02359936993246231\n",
      "20 : 可以 TF-IDF: 0.022958278161416924\n",
      "21 : 喜歡 TF-IDF: 0.02285462328744244\n",
      "22 : 因為 TF-IDF: 0.022416537025666042\n",
      "23 : 一堆 TF-IDF: 0.021680457381807062\n",
      "24 : 問題 TF-IDF: 0.020815837223021518\n",
      "25 : 感覺 TF-IDF: 0.020714740393380813\n",
      "26 : 哪個 TF-IDF: 0.020643972612632316\n",
      "27 : 女生 TF-IDF: 0.02055531365074145\n",
      "28 : 這麼 TF-IDF: 0.019963253959718225\n",
      "29 : 覺得 TF-IDF: 0.01862540591413954\n",
      "30 : 這種 TF-IDF: 0.01824460785582621\n",
      "31 : 美國 TF-IDF: 0.018055893773830226\n",
      "32 : 正妹 TF-IDF: 0.016286699255117856\n",
      "33 : 知道 TF-IDF: 0.015811205555870015\n",
      "34 : 其實 TF-IDF: 0.01557902144763291\n",
      "35 : 為何 TF-IDF: 0.015043208250537165\n",
      "36 : 還有 TF-IDF: 0.014736547867293687\n",
      "37 : 東西 TF-IDF: 0.014719698395686903\n",
      "38 : 比較 TF-IDF: 0.01451750473640549\n",
      "39 : 那麼 TF-IDF: 0.014369229386265786\n",
      "40 : 到底 TF-IDF: 0.013855929767928526\n",
      "41 : 有人 TF-IDF: 0.013674560834915146\n",
      "42 : 自己 TF-IDF: 0.013466423468451874\n",
      "43 : QQ TF-IDF: 0.013445878342213998\n",
      "44 : 時間 TF-IDF: 0.013361630984180075\n",
      "45 : 開始 TF-IDF: 0.013206615845397658\n",
      "46 : 這個 TF-IDF: 0.012974093137224033\n",
      "47 : 哪裡 TF-IDF: 0.01282581778708433\n",
      "48 : 不是 TF-IDF: 0.012758688475732879\n",
      "49 : 沒人 TF-IDF: 0.012552856347054421\n",
      "50 : 甚麼 TF-IDF: 0.012468608989020498\n",
      "51 : 出來 TF-IDF: 0.012320333638880795\n",
      "52 : 日本 TF-IDF: 0.012127572493474573\n",
      "53 : 那個 TF-IDF: 0.012054111987493602\n",
      "54 : 發現 TF-IDF: 0.011993453889709177\n",
      "55 : 中國人 TF-IDF: 0.011976604418102393\n",
      "56 : 國家 TF-IDF: 0.011976604418102393\n",
      "57 : 如果 TF-IDF: 0.01195142064483163\n",
      "58 : 不要 TF-IDF: 0.011371977189677437\n",
      "59 : 就是 TF-IDF: 0.011178381502120506\n",
      "60 : 他們 TF-IDF: 0.010851059714769191\n",
      "61 : 大家 TF-IDF: 0.010829155333451544\n",
      "62 : 朋友 TF-IDF: 0.010388757432612226\n",
      "63 : 很多 TF-IDF: 0.010254718969681581\n",
      "64 : 台北 TF-IDF: 0.010090151731776114\n",
      "65 : 已經 TF-IDF: 0.009971517296895042\n",
      "66 : 老師 TF-IDF: 0.009917598987753332\n",
      "67 : 大學 TF-IDF: 0.00989737962182519\n",
      "68 : 變成 TF-IDF: 0.009695185962543778\n",
      "69 : 邊緣 TF-IDF: 0.009459293360048795\n",
      "70 : 我們 TF-IDF: 0.0093885255793003\n",
      "71 : 結果 TF-IDF: 0.0093885255793003\n",
      "72 : 遊戲 TF-IDF: 0.009065015724450039\n",
      "73 : 不用 TF-IDF: 0.00885884470039901\n",
      "74 : 手機 TF-IDF: 0.008744875763921134\n",
      "75 : 一點 TF-IDF: 0.008717916609350278\n",
      "76 : 看到 TF-IDF: 0.008670900198239207\n",
      "77 : 多少 TF-IDF: 0.008670105043160773\n",
      "78 : 男生 TF-IDF: 0.00855216230787021\n",
      "79 : 別人 TF-IDF: 0.008535942315997006\n",
      "80 : 當然 TF-IDF: 0.008482024006855295\n",
      "81 : 10 TF-IDF: 0.008434845486356299\n",
      "82 : 女友 TF-IDF: 0.008252324115040545\n",
      "83 : 如何 TF-IDF: 0.008088109356327164\n",
      "84 : 還好 TF-IDF: 0.008067527005328399\n",
      "85 : 電影 TF-IDF: 0.008013608696186688\n",
      "86 : 新聞 TF-IDF: 0.008013608696186688\n",
      "87 : 還要 TF-IDF: 0.008003499013222618\n",
      "88 : 韓國 TF-IDF: 0.007986649541615832\n",
      "89 : 鄉民 TF-IDF: 0.007952950598402264\n",
      "90 : 起來 TF-IDF: 0.007770976305048992\n",
      "91 : 根本 TF-IDF: 0.007719534763027918\n",
      "92 : XD TF-IDF: 0.007700208524300497\n",
      "93 : 好吃 TF-IDF: 0.007579158623013259\n",
      "94 : 妹妹 TF-IDF: 0.007550327706300244\n",
      "95 : 的掛 TF-IDF: 0.0075384535968753665\n",
      "96 : 不過 TF-IDF: 0.0073497395148793805\n",
      "97 : 一直 TF-IDF: 0.007303212591178013\n",
      "98 : .. TF-IDF: 0.0072486426852386735\n",
      "99 : ptt TF-IDF: 0.007110477018063041\n",
      "100 : 最強 TF-IDF: 0.006979051139530123\n"
     ]
    }
   ],
   "source": [
    "seg_list = jieba.lcut(text)\n",
    "tags = jieba.analyse.extract_tags(text ,topK=100 ,withWeight=True)\n",
    "i=1\n",
    "for tag in tags:\n",
    "    print(i ,':' ,tag[0] ,'TF-IDF:' ,tag[1])\n",
    "    i+=1"
   ]
  },
  {
   "cell_type": "code",
   "execution_count": 8,
   "metadata": {
    "scrolled": true
   },
   "outputs": [
    {
     "name": "stdout",
     "output_type": "stream",
     "text": [
      "1 :八卦        79119\n",
      "2 :什麼        57760\n",
      "3 :台灣        35851\n",
      "4 :怎麼        33196\n",
      "5 :可以        23236\n",
      "6 :肥宅        21771\n",
      "7 :是不是       21560\n",
      "8 :真的        16890\n",
      "9 :知道        14114\n",
      "10 :自己        13560\n",
      "11 :不是        11943\n",
      "12 :現在        11279\n",
      "13 :就是        11021\n",
      "14 :不會        10751\n",
      "15 :如果        10690\n",
      "16 :還是        10589\n",
      "17 :一個        10535\n",
      "18 :中國        10230\n",
      "19 :一堆        10098\n",
      "20 :這樣        9671\n",
      "21 :有人        9666\n",
      "22 :怎樣        8861\n",
      "23 :時候        8806\n",
      "24 :女生        8630\n",
      "25 :日本        8594\n",
      "26 :一樣        8514\n",
      "27 :到底        8471\n",
      "28 :不要        8245\n",
      "29 :大家        7886\n",
      "30 :沒有        7745\n",
      "31 :...       7547\n",
      "32 :很多        7488\n",
      "33 :應該        7003\n",
      "34 :喜歡        6782\n",
      "35 :因為        6652\n",
      "36 :看到        6323\n",
      "37 :朋友        6303\n",
      "38 :問題        6177\n",
      "39 :感覺        6147\n",
      "40 :哪個        6126\n",
      "41 :如何        6007\n",
      "42 :這麼        5924\n",
      "43 :多少        5830\n",
      "44 :一直        5686\n",
      "45 :覺得        5527\n",
      "46 :這種        5414\n",
      "47 :美國        5358\n",
      "48 :不能        5267\n",
      "49 :不用        5230\n",
      "50 :根本        4952\n",
      "51 :一定        4863\n",
      "52 :正妹        4833\n",
      "53 :其實        4623\n",
      "54 :只有        4487\n",
      "55 :為何        4464\n",
      "56 :還有        4373\n",
      "57 :東西        4368\n",
      "58 :比較        4308\n",
      "59 :台北        4288\n",
      "60 :那麼        4264\n",
      "61 :可能        4249\n",
      "62 :以前        4139\n",
      "63 :QQ        3990\n",
      "64 :時間        3965\n",
      "65 :一下        3937\n",
      "66 :開始        3919\n",
      "67 :這個        3850\n",
      "68 :妹妹        3812\n",
      "69 :哪裡        3806\n",
      "70 :世界        3792\n",
      "71 :今天        3775\n",
      "72 :沒人        3725\n",
      "73 :甚麼        3700\n",
      "74 :出來        3656\n",
      "75 :所以        3633\n",
      "76 :那個        3577\n",
      "77 :直接        3563\n",
      "78 :發現        3559\n",
      "79 :中國人       3554\n",
      "80 :國家        3554\n",
      "81 :不到        3494\n",
      "82 :工作        3483\n",
      "83 :只是        3395\n",
      "84 :男生        3323\n",
      "85 :好吃        3320\n",
      "86 :他們        3220\n",
      "87 :公司        3199\n",
      "88 :老婆        3157\n",
      "89 :女友        3146\n",
      "90 :已經        2959\n",
      "91 :老師        2943\n",
      "92 :大學        2937\n",
      "93 :變成        2877\n",
      "94 :人家        2840\n",
      "95 :一起        2829\n",
      "96 :邊緣        2807\n",
      "97 :我們        2786\n",
      "98 :結果        2786\n",
      "99 :南部        2744\n",
      "100 :需要        2726\n"
     ]
    }
   ],
   "source": [
    "counts = {}\n",
    "for word in seg_list:\n",
    "  if len(word)!=1:\n",
    "    rword = word\n",
    "  else:\n",
    "    continue\n",
    "  counts[rword]=counts.get(rword ,0)+1\n",
    "\n",
    "items=list(counts.items())\n",
    "items.sort(key=lambda x:x[1] ,reverse=True)\n",
    "i=1\n",
    "for k in range(100):\n",
    "  word ,count=items[k]\n",
    "  print(i ,\":{0:<10}{1:5>}\".format(word ,count))\n",
    "  i+=1"
   ]
  },
  {
   "cell_type": "code",
   "execution_count": 10,
   "metadata": {},
   "outputs": [
    {
     "data": {
      "image/png": "[encoded data removed]",
      "text/plain": [
       "<Figure size 432x288 with 1 Axes>"
      ]
     },
     "metadata": {
      "needs_background": "light"
     },
     "output_type": "display_data"
    }
   ],
   "source": [
    "import matplotlib.pyplot as plt\n",
    "xax=[]\n",
    "yax=[]\n",
    "i=1\n",
    "for tag in tags:\n",
    "  xax.append(i)\n",
    "  yax.append(tag[1])\n",
    "  i+=1\n",
    "plt.plot(xax ,yax)\n",
    "plt.show()"
   ]
  },
  {
   "cell_type": "code",
   "execution_count": 12,
   "metadata": {
    "scrolled": true
   },
   "outputs": [
    {
     "data": {
      "image/png": "[encoded data removed]",
      "text/plain": [
       "<Figure size 432x288 with 1 Axes>"
      ]
     },
     "metadata": {
      "needs_background": "light"
     },
     "output_type": "display_data"
    }
   ],
   "source": [
    "xax2=[]\n",
    "yax2=[]\n",
    "i=1\n",
    "for k in range(100):\n",
    "  word ,count=items[k]\n",
    "  xax2.append(i)\n",
    "  yax2.append(count)\n",
    "  i+=1\n",
    "\n",
    "plt.plot(xax2 ,yax2)\n",
    "plt.show()"
   ]
  },
  {
   "cell_type": "code",
   "execution_count": null,
   "metadata": {},
   "outputs": [],
   "source": []
  }
 ],
 "metadata": {
  "kernelspec": {
   "display_name": "Python 3",
   "language": "python",
   "name": "python3"
  },
  "language_info": {
   "codemirror_mode": {
    "name": "ipython",
    "version": 3
   },
   "file_extension": ".py",
   "mimetype": "text/x-python",
   "name": "python",
   "nbconvert_exporter": "python",
   "pygments_lexer": "ipython3",
   "version": "3.7.6"
  }
 },
 "nbformat": 4,
 "nbformat_minor": 4
}
